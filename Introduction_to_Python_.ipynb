{
  "nbformat": 4,
  "nbformat_minor": 0,
  "metadata": {
    "colab": {
      "provenance": []
    },
    "kernelspec": {
      "name": "python3",
      "display_name": "Python 3"
    },
    "language_info": {
      "name": "python"
    }
  },
  "cells": [
    {
      "cell_type": "markdown",
      "source": [
        "Question 1\n",
        "\n",
        "Write a program that will find all numbers which are divisible by 7 but are not a multiple of 5, between 2000 and 3200 (both included). The numbers obtained should be printed in a list.\n",
        "\n",
        "Hint: Consider using the range(#begin, #end) method."
      ],
      "metadata": {
        "id": "jSep6Qb5apPu"
      }
    },
    {
      "cell_type": "code",
      "execution_count": null,
      "metadata": {
        "id": "yaNv9j2xUGkn"
      },
      "outputs": [],
      "source": [
        "#Q1 List\n",
        "mylist=[]\n",
        "for i in range(2000,3201):\n",
        "  if i%7==0 and i%5!=0:\n",
        "     mylist.append(i)\n",
        "mylist\n"
      ]
    },
    {
      "cell_type": "markdown",
      "source": [
        "Question 2 \n",
        "\n",
        " Write a program that can compute the factorial of a given number. (The factorial of n is the product of all positive integers less than or equal to n.) For example: For factorial(5)= 5 x 4 x 3 x 2 x 1 the result is 120 (i.e. factorial (0)=1)."
      ],
      "metadata": {
        "id": "xGySAIksauWF"
      }
    },
    {
      "cell_type": "code",
      "source": [
        "#Q2 Factorial\n",
        "f=1\n",
        "n=input(\"Enter a number: \")\n",
        "for i in range(f,int(n)+1):\n",
        "  f=f*i\n",
        "print(f)"
      ],
      "metadata": {
        "id": "zx4P9nvobLnD"
      },
      "execution_count": null,
      "outputs": []
    },
    {
      "cell_type": "markdown",
      "source": [
        "Question 3 \n",
        "\n",
        "With a given integer number n, write a program to generate a dictionary that contains (i, i*i) such that is an integral number between 1 and n (both included). Then, the program should print the dictionary. Suppose the following input is supplied to the program: 8 Then, the output should be: {1: 1, 2: 4, 3: 9, 4: 16, 5: 25, 6: 36, 7: 49, 8: 64}  "
      ],
      "metadata": {
        "id": "jANAEX-haxnM"
      }
    },
    {
      "cell_type": "code",
      "source": [
        "#Q3 Dictionary\n",
        "dict={}\n",
        "n=input(\"Enter a number: \")\n",
        "for i in range(1,int(n)+1):\n",
        "  dict[i]=i*i\n",
        "dict"
      ],
      "metadata": {
        "id": "10bGA9HJfJ__"
      },
      "execution_count": null,
      "outputs": []
    },
    {
      "cell_type": "markdown",
      "source": [
        "Question 4 \n",
        "\n",
        "Given a non-empty string and an integral n, return a new string where the char at index n has been removed. The value of n will be a valid index of a char in the original string (i.e. n will be in the range 0..len(str)-1 inclusive). \n",
        "\n",
        "missing_char('kitten', 1) → 'ktten'    for example here we remove \"i\" which is located in the index 1\n",
        "\n",
        "missing_char('kitten', 0) → 'itten'   here we remove \"k\" which is in the index 0\n",
        "\n",
        "missing_char('kitten', 4) → 'kittn'   here we remove \"e\" which is in the index 4"
      ],
      "metadata": {
        "id": "oMoy1l0aa053"
      }
    },
    {
      "cell_type": "code",
      "source": [
        "\n",
        "#Q4 Removing a character\n",
        "\n",
        "\n",
        "leng=0\n",
        "while leng==0:\n",
        "  st=input(\"Enter a non empty string: \")\n",
        "  leng=len(st)\n",
        "print(\"length of string=\",leng)\n",
        "n=-1\n",
        "while n<0 or n>=leng:\n",
        "   n=int(input(\"Enter an integral (from 0 to length of the string-1): \"))\n",
        "\n",
        "mylist=[]\n",
        "for i in st:\n",
        "   mylist.append(i)\n",
        "\n",
        "for x in range((leng-1)):\n",
        "  if x>=n:\n",
        "    if x==leng-1:\n",
        "      mylist.append(\"\")\n",
        "    mylist[x]=mylist[(x+1)]\n",
        "del mylist[(leng-1)]\n",
        "newst=\"\".join(mylist)\n",
        "print(newst)\n",
        "\n",
        "\n",
        "\n",
        "\n",
        " \n"
      ],
      "metadata": {
        "colab": {
          "base_uri": "https://localhost:8080/"
        },
        "id": "9gilWjj2hTPD",
        "outputId": "ca432590-e532-4573-8e06-c9d611a89281"
      },
      "execution_count": null,
      "outputs": [
        {
          "output_type": "stream",
          "name": "stdout",
          "text": [
            "Enter a non empty string: congrats\n",
            "length of string= 8\n",
            "Enter an integral (from 0 to length of the string-1): 3\n",
            "conrats\n"
          ]
        }
      ]
    },
    {
      "cell_type": "markdown",
      "source": [
        "Question 5 \n",
        "\n",
        "Write a NumPy program to convert a NumPy array into a Python list structure.\n",
        "\n",
        "Expected output: \n",
        "\n",
        "Original array elements: [[0 1] [2 3] [4 5]] \n",
        "\n",
        "Array to list: [[0, 1], [2, 3], [4, 5]] \n",
        " \n",
        "\n",
        "Hint: We can use the to_list() function to ensure the conversion."
      ],
      "metadata": {
        "id": "PE73RLfpa9sp"
      }
    },
    {
      "cell_type": "code",
      "source": [
        "#Q5 Array to list\n",
        "import numpy as np\n",
        "r=int(input(\"Input number of rows: \"))\n",
        "c=int(input(\"Input number of columns: \"))\n",
        "a=np.random.random((r,c))\n",
        "print(\"Array\\n\",a)\n",
        "ml=a.tolist()\n",
        "print(\"List\\n\",ml)"
      ],
      "metadata": {
        "colab": {
          "base_uri": "https://localhost:8080/"
        },
        "id": "6NO59tdZXPHq",
        "outputId": "c0667966-2674-49d8-f712-d3eda6e0f8c4"
      },
      "execution_count": null,
      "outputs": [
        {
          "output_type": "stream",
          "name": "stdout",
          "text": [
            "Input number of rows: 5\n",
            "Input number of columns: 6\n",
            "Array\n",
            " [[0.9284724  0.52490171 0.36923534 0.6860444  0.22515402 0.87252922]\n",
            " [0.71362949 0.2546018  0.34912115 0.78592556 0.22217301 0.00803968]\n",
            " [0.35154571 0.23575779 0.34047432 0.87111578 0.30013383 0.56235804]\n",
            " [0.13176676 0.87705107 0.30643231 0.71848348 0.19735603 0.94311011]\n",
            " [0.61119126 0.02704087 0.1682454  0.64357657 0.41746396 0.45360425]]\n",
            "List\n",
            " [[0.928472395284963, 0.5249017127867193, 0.36923534262722, 0.6860443953851109, 0.2251540220080328, 0.872529220542676], [0.7136294881631465, 0.25460179599889776, 0.34912114835355423, 0.7859255614551754, 0.2221730138759328, 0.00803968451284609], [0.35154571121865896, 0.23575779088603988, 0.3404743182776674, 0.871115775979509, 0.30013383210679423, 0.5623580445927862], [0.13176675854700282, 0.8770510662097791, 0.3064323091218102, 0.718483477265138, 0.19735602720339274, 0.9431101064569396], [0.6111912595843683, 0.027040873010382827, 0.16824539731738997, 0.6435765699997615, 0.41746395590781293, 0.4536042470970524]]\n"
          ]
        }
      ]
    },
    {
      "cell_type": "markdown",
      "source": [
        "Question 6\n",
        "\n",
        "Write a NumPy program to compute the covariance matrix of two given arrays. \n",
        "\n",
        "Original array1: [0 1 2] \n",
        "\n",
        "Original array2: [2 1 0] \n",
        "\n",
        "Covariance matrix of the said arrays: [[ 1. -1.] [-1. 1.]]\n",
        " \n",
        "\n",
        "Hint: We can use the np.cov() function to calculate the covariance between these two arrays"
      ],
      "metadata": {
        "id": "uf7jw-n3bB6H"
      }
    },
    {
      "cell_type": "code",
      "source": [
        "#Q6 covariance matrix\n",
        "n=int(input(\"choose an integral number: \"))\n",
        "\n",
        "a1=np.random.random((1,n))\n",
        "a2=np.random.random((1,n))\n",
        "cm=np.cov(a1,a2)\n",
        "print(\"Array 1: \\n\",a1)\n",
        "print(\"Array 2: \\n\",a2)\n",
        "print(\"Covariance matrix: \\n\",cm)"
      ],
      "metadata": {
        "id": "0AaeFJODXwlB"
      },
      "execution_count": null,
      "outputs": []
    },
    {
      "cell_type": "markdown",
      "source": [
        "Question 7\n",
        "\n",
        "Question: Write a program that calculates and prints the value according to the given formula: Q= Square root of [(2 * C * D)/H] \n",
        "\n",
        "The following are the fixed values of C and H: C is 50. H is 30. \n",
        "\n",
        "D is the variable whose values should be input into your program in a comma-separated sequence. (That means D contains more than value)\n",
        "\n",
        "Example: Let's assume the following comma-separated input sequence is given to the program: 100,150,180 The output of the program should be 18,22,24 \n",
        "\n",
        "To further explain this, we will obtain a result for each value of D:  Q1= Square root of [(2 * C * 100)/H] =18, Q2= Square root of [(2 * C * 150)/H] = 22 and Q3 = Square root of [(2 * C * 180)/H]  = 24\n",
        "\n",
        "Hint: If the output received is in decimal form, it should be rounded off to its nearest value. For example, if the output received is 26.0, it should be printed as 26. In case of input data being supplied to the question, it should be assumed to be a console input. "
      ],
      "metadata": {
        "id": "dYNhLMUPbGAc"
      }
    },
    {
      "cell_type": "code",
      "source": [
        "#Q7 Pandas Series\n",
        "from numpy.lib import index_tricks\n",
        "import pandas as pd\n",
        "import math\n",
        "c=50\n",
        "h=30\n",
        "n=int(input(\"choose the number of values to enter: \"))\n",
        "\n",
        "l=[]\n",
        "for i in range(1,(n+1)):\n",
        "  print(\"Value\",i)\n",
        "  x=input()\n",
        "  l.append(float(x))\n",
        "\n",
        "d=pd.Series(l)\n",
        "l2=[]\n",
        "for j in d:\n",
        "  v=round(math.sqrt(((2*c*j)/h)))\n",
        "  l2.append(v)\n",
        "ind2=[]\n",
        "for i in range(1,(n+1)):\n",
        "  y=\"Q\"+str(i)\n",
        "  ind2.append(y)\n",
        "result=pd.Series(l2,ind2)\n",
        "print(\"\\nResult:\\n\",result)\n"
      ],
      "metadata": {
        "colab": {
          "base_uri": "https://localhost:8080/"
        },
        "id": "NL4nev9vXwf7",
        "outputId": "371e120b-c82f-49dd-fb53-e9bfaf5b13b7"
      },
      "execution_count": null,
      "outputs": [
        {
          "output_type": "stream",
          "name": "stdout",
          "text": [
            "choose the number of values to enter: 5\n",
            "Value 1\n",
            "8\n",
            "Value 2\n",
            "9\n",
            "Value 3\n",
            "10\n",
            "Value 4\n",
            "11\n",
            "Value 5\n",
            "12\n",
            "\n",
            "Result:\n",
            " Q1    5\n",
            "Q2    5\n",
            "Q3    6\n",
            "Q4    6\n",
            "Q5    6\n",
            "dtype: int64\n"
          ]
        }
      ]
    }
  ]
}